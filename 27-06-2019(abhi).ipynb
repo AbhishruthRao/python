{
 "cells": [
  {
   "cell_type": "markdown",
   "metadata": {},
   "source": [
    "# files"
   ]
  },
  {
   "cell_type": "code",
   "execution_count": 2,
   "metadata": {},
   "outputs": [
    {
     "name": "stdout",
     "output_type": "stream",
     "text": [
      "file is created successfully and data is written\n"
     ]
    }
   ],
   "source": [
    "#function to create a file and write some data\n",
    "def createfile(filename):\n",
    "    f=open(filename,\"w\")\n",
    "    for i in range(10):\n",
    "        f.write(\"this is %d line\\n\"%i)\n",
    "    print(\"file is created successfully and data is written\")\n",
    "    f.close()\n",
    "    return\n",
    "createfile(\"file1.txt\")"
   ]
  },
  {
   "cell_type": "code",
   "execution_count": 4,
   "metadata": {},
   "outputs": [
    {
     "name": "stdout",
     "output_type": "stream",
     "text": [
      "this is 0 line\n",
      "this is 1 line\n",
      "this is 2 line\n",
      "this is 3 line\n",
      "this is 4 line\n",
      "this is 5 line\n",
      "this is 6 line\n",
      "this is 7 line\n",
      "this is 8 line\n",
      "this is 9 line\n",
      "\n"
     ]
    }
   ],
   "source": [
    "#function for reading the file data\n",
    "def readfile(filename):\n",
    "    f=open(filename,\"r\")\n",
    "    if(f.mode==\"r\"):\n",
    "        x=f.read()\n",
    "        print(x)\n",
    "    f.close()\n",
    "    return\n",
    "readfile(\"file1.txt\")\n",
    "        \n",
    "        \n"
   ]
  },
  {
   "cell_type": "code",
   "execution_count": 4,
   "metadata": {},
   "outputs": [
    {
     "name": "stdout",
     "output_type": "stream",
     "text": [
      "file is created successfully and data is written\n"
     ]
    }
   ],
   "source": [
    "def createfile(filename):\n",
    "    f=open(filename,\"w\")\n",
    "    for i in range(10):\n",
    "        f.write(\"test %d line\\n\"%i)\n",
    "    print(\"file is created successfully and data is written\")\n",
    "    f.close()\n",
    "    return\n",
    "createfile(\"file1.txt\")"
   ]
  },
  {
   "cell_type": "code",
   "execution_count": 12,
   "metadata": {},
   "outputs": [],
   "source": [
    "# data to append\n",
    "# function to append the data to existing file\n",
    "def appenddata(filename):\n",
    "    f=open(filename,\"a\")\n",
    "    f.write(\"new line 1\\n\")\n",
    "    f.write(\"new line 2\\n\")\n",
    "    f.close()\n",
    "    return\n",
    "appenddata(\"file1.txt\")"
   ]
  },
  {
   "cell_type": "code",
   "execution_count": 18,
   "metadata": {},
   "outputs": [
    {
     "name": "stdout",
     "output_type": "stream",
     "text": [
      "0\n"
     ]
    }
   ],
   "source": [
    "def dataanalysiswordcount(filename,word):\n",
    "    f=open(filename,\"r\")\n",
    "    if(f.mode=='r'):\n",
    "        x=f.read()\n",
    "        list=x.split()\n",
    "    count=list.count(word)\n",
    "    return count\n",
    "print(dataanalysiswordcount(\"file1.txt\",\"rest\"))"
   ]
  },
  {
   "cell_type": "code",
   "execution_count": 19,
   "metadata": {},
   "outputs": [
    {
     "name": "stdout",
     "output_type": "stream",
     "text": [
      "252\n"
     ]
    }
   ],
   "source": [
    "#function to count characters in a file\n",
    "def countcharacter(filename):\n",
    "    f=open(filename,'r')\n",
    "    if (f.mode=='r'):\n",
    "        x=f.read()\n",
    "        lst=list(x)\n",
    "    return len(lst)\n",
    "print(countcharacter(\"file1.txt\"))\n"
   ]
  },
  {
   "cell_type": "code",
   "execution_count": 23,
   "metadata": {},
   "outputs": [
    {
     "data": {
      "text/plain": [
       "0"
      ]
     },
     "execution_count": 23,
     "metadata": {},
     "output_type": "execute_result"
    }
   ],
   "source": [
    "# function to count the upper case character from the given file\n",
    "def uppercasecount(filename):\n",
    "    countupper=0\n",
    "    f=open(filename,\"r\")\n",
    "    if(f.mode==\"r\"):\n",
    "        x=f.read()\n",
    "        lst=list(x)\n",
    "    for i in lst:\n",
    "        if i.isupper():\n",
    "            countupper+=1\n",
    "    return countupper\n",
    "uppercasecount(\"file1.txt\")"
   ]
  },
  {
   "cell_type": "code",
   "execution_count": 30,
   "metadata": {},
   "outputs": [
    {
     "data": {
      "text/plain": [
       "23"
      ]
     },
     "execution_count": 30,
     "metadata": {},
     "output_type": "execute_result"
    }
   ],
   "source": [
    "#function to find count of lines in given file\n",
    "\n",
    "def countlines(filename):\n",
    "    f=open(filename,\"r\")\n",
    "    if f.mode==\"r\":\n",
    "        x=f.read()\n",
    "        lst=x.split(\"\\n\")\n",
    "    return len(lst)\n",
    "countlines(\"file1.txt\")    "
   ]
  },
  {
   "cell_type": "markdown",
   "metadata": {},
   "source": [
    "# regular expressions\n",
    "1.pattern matching\n",
    "\n",
    "2.symbolic notation of a pattern\n",
    "       - pattern(RE)represents the set of values that are given in pattern\n",
    "3.[0 - 9] -- > any digit\n",
    "\n",
    "4.[a - z] -- > any lower case characters\n",
    "\n",
    "5.[A - Z] -- > any upper case characters\n",
    "\n",
    "6.[2468]  -- >all the single digit multiples of 2\n",
    "\n",
    "7.^[0-9]{1}$ -- > only single digit number\n",
    "      \n",
    "      - cap symbol is used for start of regular expression\n",
    "      \n",
    "      - dollar symbol is used for the end of the regular expression\n",
    "\n",
    "8.^[0-9](3)$ -- > regular expression will accept only 3 digit number\n",
    "\n",
    "9.^[a-z](5)$ -- > it only accepts 5 character string that too lower case characters\n",
    "\n",
    "10.^[a-zA-z](6)$ -- > a string can be of upper/lower case characters and lenght of 6\n",
    "\n",
    "11.^[a-zA-z]{6-15}$ --> a string min of 6 characters and max of 15 characters(upper case and lower case)\n",
    "\n",
    "12.^[a-zA-z0-9]{6-15}$ -- > upper,lower and digits\n",
    "\n",
    "13.^[6-9][0-9]{9}$ -- > regular expression for indian mobile number\n",
    "\n",
    "   ^[0][6-9][0-9]{9}$ -- > regular expression for indian mobile number \n",
    "   \n",
    "   ^[+][9][1][6-9][0-9]{9}$ -- > regular expression for indian mobile number\n",
    "   \n",
    "14. EmailID validation :  Username@DomainName.extension\n",
    "                \n",
    "                username:\n",
    "                - length will be : [6 - 15]\n",
    "                - no spl chars  apart from\n",
    "                - should not begin and end with _\n",
    "                - character set : all digits and lower case alphabets\n",
    "                \n",
    "                \n",
    "                \n",
    "                domain name:\n",
    "                - length of domain [3,18]\n",
    "                - no special characters\n",
    "                - character set : all digits and lower case alphabets\n",
    "                \n",
    "                \n",
    "                expression name:\n",
    "                \n",
    "                \n",
    "                \n",
    "                \n",
    "                \n",
    "                \n",
    "                \n",
    "                \n",
    "15. password\n",
    "         parameters : [6-15]\n",
    "         accept lower case , upper case , special symbols(@,$,#,!)\n",
    "                \n",
    "                \n",
    "                \n",
    "                \n"
   ]
  },
  {
   "cell_type": "code",
   "execution_count": 47,
   "metadata": {},
   "outputs": [
    {
     "name": "stdout",
     "output_type": "stream",
     "text": [
      "True\n",
      "True\n",
      "True\n"
     ]
    }
   ],
   "source": [
    "import re\n",
    "def phonenumbervalidate(phone):\n",
    "    pattern='^[6-9][0-9]{9}$|^[0][6-9][0-9]{9}$|[+][9][1][6-9][0-9]{9}$'\n",
    "    phone=str(phone)\n",
    "    if re.match(pattern,phone):\n",
    "        return True\n",
    "    return False\n",
    "print(phonenumbervalidate(\"09550740422\"))  \n",
    "print(phonenumbervalidate(\"9948698244\"))\n",
    "print(phonenumbervalidate(\"+919951810422\"))"
   ]
  },
  {
   "cell_type": "code",
   "execution_count": 48,
   "metadata": {},
   "outputs": [],
   "source": [
    "# re --- validation of Roll number\n",
    "### 152U1A0501  validate"
   ]
  },
  {
   "cell_type": "code",
   "execution_count": 53,
   "metadata": {},
   "outputs": [
    {
     "name": "stdout",
     "output_type": "stream",
     "text": [
      "True\n",
      "True\n",
      "False\n"
     ]
    }
   ],
   "source": [
    "import re\n",
    "def validaterollnumber(number):\n",
    "    number=str(number)\n",
    "    pattern='^[1][5][2][U][1][A][0][1-9][0-6][0-9]$'\n",
    "    if re.match(pattern,number):\n",
    "        return True\n",
    "    return False\n",
    "print(validaterollnumber(\"152U1A0111\"))\n",
    "print(validaterollnumber(\"152U1A0123\"))\n",
    "print(validaterollnumber(\"152U0A1233\"))\n"
   ]
  },
  {
   "cell_type": "code",
   "execution_count": 54,
   "metadata": {},
   "outputs": [
    {
     "name": "stdout",
     "output_type": "stream",
     "text": [
      "True\n",
      "False\n"
     ]
    }
   ],
   "source": [
    "import re\n",
    "def emailIDvalidation(email):\n",
    "    pattern=\"^[0-9a-z][0-9a-z_.]{4,13}[0-9a-z][@][a-z0-9]{3,18}[.][a-z]{2,4}$\"\n",
    "    if re.match(pattern,email):\n",
    "        return True\n",
    "    return False\n",
    "print(emailIDvalidation(\"abhi.2001@gmail.com\"))\n",
    "print(emailIDvalidation(\"$akash.1889@gmail.com\"))"
   ]
  }
 ],
 "metadata": {
  "kernelspec": {
   "display_name": "Python 3",
   "language": "python",
   "name": "python3"
  },
  "language_info": {
   "codemirror_mode": {
    "name": "ipython",
    "version": 3
   },
   "file_extension": ".py",
   "mimetype": "text/x-python",
   "name": "python",
   "nbconvert_exporter": "python",
   "pygments_lexer": "ipython3",
   "version": "3.7.3"
  }
 },
 "nbformat": 4,
 "nbformat_minor": 2
}
