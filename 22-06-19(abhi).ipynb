{
 "cells": [
  {
   "cell_type": "code",
   "execution_count": 2,
   "metadata": {},
   "outputs": [
    {
     "ename": "SyntaxError",
     "evalue": "invalid syntax (<ipython-input-2-073fd0bb1283>, line 4)",
     "output_type": "error",
     "traceback": [
      "\u001b[1;36m  File \u001b[1;32m\"<ipython-input-2-073fd0bb1283>\"\u001b[1;36m, line \u001b[1;32m4\u001b[0m\n\u001b[1;33m    i++\u001b[0m\n\u001b[1;37m       ^\u001b[0m\n\u001b[1;31mSyntaxError\u001b[0m\u001b[1;31m:\u001b[0m invalid syntax\n"
     ]
    }
   ],
   "source": [
    "i=0\n",
    "while(i<3):\n",
    "    print(i)\n",
    "    i++\n",
    "    print(i+1)\n",
    "\n",
    "    "
   ]
  },
  {
   "cell_type": "markdown",
   "metadata": {},
   "source": [
    "# example 6\n",
    "\n"
   ]
  },
  {
   "cell_type": "code",
   "execution_count": 1,
   "metadata": {},
   "outputs": [
    {
     "name": "stdout",
     "output_type": "stream",
     "text": [
      "it is negative number\n"
     ]
    }
   ],
   "source": [
    "x=-10;\n",
    "if(x<0):\n",
    "    print(\"it is negative number\")\n",
    "elif(x>0):\n",
    "    print(\"it is positive number\")\n",
    "elif(x==0):\n",
    "    print(\"it is zero\")"
   ]
  },
  {
   "cell_type": "markdown",
   "metadata": {},
   "source": [
    "# loops"
   ]
  },
  {
   "cell_type": "markdown",
   "metadata": {},
   "source": [
    "# example 1"
   ]
  },
  {
   "cell_type": "code",
   "execution_count": 2,
   "metadata": {
    "scrolled": true
   },
   "outputs": [
    {
     "name": "stdout",
     "output_type": "stream",
     "text": [
      "1\n",
      "2\n",
      "3\n",
      "4\n",
      "5\n",
      "6\n",
      "7\n",
      "8\n",
      "9\n",
      "10\n"
     ]
    }
   ],
   "source": [
    "n=1;\n",
    "while(n<=10):\n",
    "    print(n);\n",
    "    n=n+1;"
   ]
  },
  {
   "cell_type": "markdown",
   "metadata": {},
   "source": [
    "# example 2 \n",
    "print nums from 10 to 1"
   ]
  },
  {
   "cell_type": "code",
   "execution_count": 3,
   "metadata": {},
   "outputs": [
    {
     "name": "stdout",
     "output_type": "stream",
     "text": [
      "10\n",
      "9\n",
      "8\n",
      "7\n",
      "6\n",
      "5\n",
      "4\n",
      "3\n",
      "2\n",
      "1\n"
     ]
    }
   ],
   "source": [
    "n=10;\n",
    "while(n>=1):\n",
    "    print(n);\n",
    "    n=n-1;"
   ]
  },
  {
   "cell_type": "markdown",
   "metadata": {},
   "source": [
    "# example 3\n",
    "print from -22 to -45"
   ]
  },
  {
   "cell_type": "code",
   "execution_count": 4,
   "metadata": {},
   "outputs": [
    {
     "name": "stdout",
     "output_type": "stream",
     "text": [
      "-45\n",
      "-44\n",
      "-43\n",
      "-42\n",
      "-41\n",
      "-40\n",
      "-39\n",
      "-38\n",
      "-37\n",
      "-36\n",
      "-35\n",
      "-34\n",
      "-33\n",
      "-32\n",
      "-31\n",
      "-30\n",
      "-29\n",
      "-28\n",
      "-27\n",
      "-26\n",
      "-25\n",
      "-24\n",
      "-23\n",
      "-22\n"
     ]
    }
   ],
   "source": [
    "n=-45\n",
    "while(n<=-22):\n",
    "    print(n);\n",
    "    n=n+1;"
   ]
  },
  {
   "cell_type": "markdown",
   "metadata": {},
   "source": [
    "# \n",
    "-22 to -45"
   ]
  },
  {
   "cell_type": "code",
   "execution_count": 5,
   "metadata": {},
   "outputs": [
    {
     "name": "stdout",
     "output_type": "stream",
     "text": [
      "-22\n",
      "-23\n",
      "-24\n",
      "-25\n",
      "-26\n",
      "-27\n",
      "-28\n",
      "-29\n",
      "-30\n",
      "-31\n",
      "-32\n",
      "-33\n",
      "-34\n",
      "-35\n",
      "-36\n",
      "-37\n",
      "-38\n",
      "-39\n",
      "-40\n",
      "-41\n",
      "-42\n",
      "-43\n",
      "-44\n",
      "-45\n"
     ]
    }
   ],
   "source": [
    "n=-22;\n",
    "while(n>=-45):\n",
    "    print(n);\n",
    "    n=n-1;"
   ]
  },
  {
   "cell_type": "markdown",
   "metadata": {},
   "source": [
    "# example 4\n",
    "sum of even numbers between 1  to 100"
   ]
  },
  {
   "cell_type": "code",
   "execution_count": 6,
   "metadata": {},
   "outputs": [
    {
     "name": "stdout",
     "output_type": "stream",
     "text": [
      "enter lower limit1\n",
      "enter upper limit100\n",
      "2450\n"
     ]
    }
   ],
   "source": [
    "x=int(input(\"enter lower limit\"));\n",
    "y=int(input(\"enter upper limit\"));\n",
    "sum=0;\n",
    "while(x!=y):\n",
    "    if(x%2==0):\n",
    "        sum=sum+x;\n",
    "    x=x+1;\n",
    "print(sum);\n",
    "    "
   ]
  },
  {
   "cell_type": "markdown",
   "metadata": {},
   "source": [
    "#  example 5\n",
    "add sum of even numbers in a given number"
   ]
  },
  {
   "cell_type": "code",
   "execution_count": 20,
   "metadata": {},
   "outputs": [
    {
     "name": "stdout",
     "output_type": "stream",
     "text": [
      "enter the number1\n",
      "0\n"
     ]
    }
   ],
   "source": [
    "x=int(input(\"enter the number\"));\n",
    "sum=0;\n",
    "while(x!=0):\n",
    " r=x%10;\n",
    " if(r%2==0):\n",
    "  sum=sum+r;\n",
    " x=x//10;\n",
    "print(sum);"
   ]
  },
  {
   "cell_type": "markdown",
   "metadata": {},
   "source": [
    "# example 6\n",
    "print number name what ever the input number is given(integer - words)"
   ]
  },
  {
   "cell_type": "code",
   "execution_count": 22,
   "metadata": {},
   "outputs": [
    {
     "name": "stdout",
     "output_type": "stream",
     "text": [
      "enter the number132\n",
      "two\n",
      "three\n",
      "one\n"
     ]
    }
   ],
   "source": [
    "x=int(input(\"enter the number\"));\n",
    "while(x!=0):\n",
    "    r=x%10;\n",
    "    x=x//10;\n",
    "    if(r==0):\n",
    "        print(\"zero\");\n",
    "    elif(r==1):\n",
    "        print(\"one\");\n",
    "    elif(r==2):\n",
    "        print(\"two\");\n",
    "    elif(r==3):\n",
    "        print(\"three\");\n",
    "    elif(r==4):\n",
    "        print(\"four\");\n",
    "    elif(r==5):\n",
    "        print(\"five\");\n",
    "    elif(r==6):\n",
    "        print(\"six\");\n",
    "    elif(r==7):\n",
    "        print(\"seven\");\n",
    "    elif(r==8):\n",
    "        print(\"eight\");\n",
    "    elif(r==9):\n",
    "        print(\"nine\");"
   ]
  },
  {
   "cell_type": "markdown",
   "metadata": {},
   "source": [
    "# example 7\n",
    "how many time the digit is repeated between 2nd and 3rd number\n",
    "6,60,65   -- 5\n",
    "2,120,220 -- 40"
   ]
  },
  {
   "cell_type": "code",
   "execution_count": null,
   "metadata": {},
   "outputs": [],
   "source": [
    "x=int(input(\"enter the 1st number\"));\n",
    "y=int(input(\"enter the 2nd number\"));\n",
    "z=int(input(\"enter the 3rd number\"));\n",
    "k=y;\n",
    "count=1;\n",
    "while(k<z):\n",
    "    while(y!=0):\n",
    "        r=y%10\n",
    "        if(x==r):\n",
    "            count=count+1;\n",
    "        y=y//10\n",
    "    k=k+1\n",
    "    y=k\n",
    "print(count)\n"
   ]
  },
  {
   "cell_type": "markdown",
   "metadata": {},
   "source": [
    "# example 1\n",
    "print N natural numbers\n"
   ]
  },
  {
   "cell_type": "code",
   "execution_count": null,
   "metadata": {},
   "outputs": [],
   "source": [
    "def printNNaturalNumbers(n):\n",
    "    count=1\n",
    "    while(count<=n):\n",
    "        print(count,end=\" \");\n",
    "        count=count+1;\n",
    "        print()\n",
    "        return"
   ]
  },
  {
   "cell_type": "markdown",
   "metadata": {},
   "source": [
    "# example 2\n",
    "find the factorial of a given number"
   ]
  },
  {
   "cell_type": "code",
   "execution_count": null,
   "metadata": {},
   "outputs": [],
   "source": [
    "def findFact(n):\n",
    "    fact=1;\n",
    "    while(n!=0):\n",
    "        fact=fact*n;\n",
    "        n=n-1;\n",
    "    return fact;\n",
    "print(findFact(5));\n",
    "print(findFact(10));\n",
    "print(findFact(20));"
   ]
  },
  {
   "cell_type": "markdown",
   "metadata": {},
   "source": [
    "# example 3\n",
    "count number of palindromes between two limits"
   ]
  },
  {
   "cell_type": "code",
   "execution_count": null,
   "metadata": {},
   "outputs": [],
   "source": [
    "def countofPalindromes(n1,n2):\n",
    "    count=0;\n",
    "    while (n1!=n2):\n",
    "        sum=0;\n",
    "        buffer=n1;\n",
    "        while(n1!=0):\n",
    "            r=n1%10;\n",
    "            sum=(sum*10)+r;\n",
    "            n1=n1//10;\n",
    "        if(buffer==sum):\n",
    "            count=count+1;\n",
    "        n1=buffer;\n",
    "        n1=n1+1;\n",
    "    return count;\n",
    "printf(countofPalindromes(10,30))\n",
    "    \n",
    "\n"
   ]
  }
 ],
 "metadata": {
  "kernelspec": {
   "display_name": "Python 3",
   "language": "python",
   "name": "python3"
  },
  "language_info": {
   "codemirror_mode": {
    "name": "ipython",
    "version": 3
   },
   "file_extension": ".py",
   "mimetype": "text/x-python",
   "name": "python",
   "nbconvert_exporter": "python",
   "pygments_lexer": "ipython3",
   "version": "3.7.3"
  }
 },
 "nbformat": 4,
 "nbformat_minor": 2
}
